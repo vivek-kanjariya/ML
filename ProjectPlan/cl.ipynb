{
 "cells": [
  {
   "cell_type": "code",
   "execution_count": 41,
   "id": "718741cc",
   "metadata": {},
   "outputs": [
    {
     "name": "stdout",
     "output_type": "stream",
     "text": [
      "✅ Loaded data files.\n"
     ]
    }
   ],
   "source": [
    "import pandas as pd\n",
    "\n",
    "# Load clustered data\n",
    "df_clusters = pd.read_csv(r\"C:\\Users\\Administrator\\Desktop\\Python\\ML\\ProjectPlan\\clustered_output_with_vehicleinfo.csv\")\n",
    "\n",
    "# Load vehicle master with capacities\n",
    "df_vehicles = pd.read_csv(r\"C:\\Users\\Administrator\\Desktop\\Python\\ML\\DataSets\\projectplancluster\\vehicle_type_map_with_capacity.csv\")\n",
    "\n",
    "df_clusters.columns = df_clusters.columns.str.strip().str.replace(\" \", \"_\")\n",
    "df_vehicles.columns = df_vehicles.columns.str.strip().str.replace(\" \", \"_\")\n",
    "\n",
    "print(\"✅ Loaded data files.\")\n",
    "\n"
   ]
  },
  {
   "cell_type": "code",
   "execution_count": 42,
   "id": "e30158ca",
   "metadata": {},
   "outputs": [
    {
     "name": "stdout",
     "output_type": "stream",
     "text": [
      "✅ Cluster summary prepared.\n"
     ]
    }
   ],
   "source": [
    "# --- Step 2: Cluster Summary ---\n",
    "cluster_summary = df_clusters.groupby(\"Cluster_Label\").agg({\n",
    "    \"Total_Weight\": \"sum\",\n",
    "    \"Total_Volume\": \"sum\"\n",
    "}).reset_index()\n",
    "\n",
    "cluster_summary[\"Assigned_Vehicles\"] = [[] for _ in range(len(cluster_summary))]\n",
    "cluster_summary[\"Remaining_Weight\"] = cluster_summary[\"Total_Weight\"]\n",
    "cluster_summary[\"Remaining_Volume\"] = cluster_summary[\"Total_Volume\"]\n",
    "\n",
    "print(\"✅ Cluster summary prepared.\")\n"
   ]
  },
  {
   "cell_type": "code",
   "execution_count": 43,
   "id": "941fd448",
   "metadata": {},
   "outputs": [
    {
     "name": "stdout",
     "output_type": "stream",
     "text": [
      "✅ Vehicle pool initialized.\n"
     ]
    }
   ],
   "source": [
    "# --- Step 3: Init Vehicle Pool ---\n",
    "df_vehicles[\"Available\"] = True\n",
    "df_vehicles[\"Used_By_Clusters\"] = [[] for _ in range(len(df_vehicles))]\n",
    "print(\"✅ Vehicle pool initialized.\")\n"
   ]
  },
  {
   "cell_type": "code",
   "execution_count": 44,
   "id": "5c024252",
   "metadata": {},
   "outputs": [
    {
     "name": "stdout",
     "output_type": "stream",
     "text": [
      "\n",
      "🚚 Assigning to Cluster 0 [Need: 65508.8kg, 34003.3L]\n",
      "   ✅ Vehicle GJ08X2709 assigned. Remaining: 56508.8kg / -996.7L\n",
      "   ✅ Vehicle GJ30X2371 assigned. Remaining: 52508.8kg / -15996.7L\n",
      "   ✅ Vehicle GJ24X8239 assigned. Remaining: 43508.8kg / -50996.7L\n",
      "   ✅ Vehicle GJ01X1573 assigned. Remaining: 39508.8kg / -65996.7L\n",
      "   ✅ Vehicle GJ20X7043 assigned. Remaining: 30508.8kg / -100996.7L\n",
      "   ✅ Vehicle GJ27X6555 assigned. Remaining: 26508.8kg / -115996.7L\n",
      "   ✅ Vehicle GJ15X2258 assigned. Remaining: 22508.8kg / -130996.7L\n",
      "   ✅ Vehicle GJ10X3428 assigned. Remaining: 13508.8kg / -165996.7L\n",
      "   ✅ Vehicle GJ24X6673 assigned. Remaining: 9508.8kg / -180996.7L\n",
      "   ✅ Vehicle GJ29X9603 assigned. Remaining: 508.8kg / -215996.7L\n",
      "   ✅ Vehicle GJ27X7102 assigned. Remaining: -8491.2kg / -250996.7L\n",
      "\n",
      "🚚 Assigning to Cluster 1 [Need: 53445.6kg, 28632.4L]\n",
      "   ✅ Vehicle GJ10X3256 assigned. Remaining: 44445.6kg / -6367.6L\n",
      "   ✅ Vehicle GJ29X3199 assigned. Remaining: 35445.6kg / -41367.6L\n",
      "   ✅ Vehicle GJ27X9363 assigned. Remaining: 31445.6kg / -56367.6L\n",
      "   ✅ Vehicle GJ16X5358 assigned. Remaining: 27445.6kg / -71367.6L\n",
      "   ✅ Vehicle GJ02X6383 assigned. Remaining: 23445.6kg / -86367.6L\n",
      "   ✅ Vehicle GJ11X5333 assigned. Remaining: 19445.6kg / -101367.6L\n",
      "   ✅ Vehicle GJ12X5063 assigned. Remaining: 15445.6kg / -116367.6L\n",
      "   ✅ Vehicle GJ27X2754 assigned. Remaining: 6445.6kg / -151367.6L\n",
      "   ✅ Vehicle GJ13X1303 assigned. Remaining: 2445.6kg / -166367.6L\n",
      "   ✅ Vehicle GJ26X3703 assigned. Remaining: -1554.4kg / -181367.6L\n",
      "\n",
      "🚚 Assigning to Cluster 2 [Need: 88379.4kg, 44199.799999999996L]\n",
      "   ✅ Vehicle GJ24X1949 assigned. Remaining: 79379.4kg / 9199.8L\n",
      "   ✅ Vehicle GJ16X7539 assigned. Remaining: 70379.4kg / -25800.2L\n",
      "   ✅ Vehicle GJ06X1549 assigned. Remaining: 66379.4kg / -40800.2L\n",
      "   ✅ Vehicle GJ27X9811 assigned. Remaining: 57379.4kg / -75800.2L\n",
      "   ✅ Vehicle GJ15X6806 assigned. Remaining: 53379.4kg / -90800.2L\n",
      "   ✅ Vehicle GJ14X1053 assigned. Remaining: 49379.4kg / -105800.2L\n",
      "   ✅ Vehicle GJ11X2202 assigned. Remaining: 40379.4kg / -140800.2L\n",
      "   ✅ Vehicle GJ15X5149 assigned. Remaining: 36379.4kg / -155800.2L\n",
      "   ✅ Vehicle GJ17X7384 assigned. Remaining: 32379.4kg / -170800.2L\n",
      "   ✅ Vehicle GJ08X2500 assigned. Remaining: 28379.4kg / -185800.2L\n",
      "   ✅ Vehicle GJ23X1698 assigned. Remaining: 19379.4kg / -220800.2L\n",
      "   ✅ Vehicle GJ01X1573 assigned. Remaining: 10379.4kg / -255800.2L\n",
      "   ✅ Vehicle GJ27X4558 assigned. Remaining: 6379.4kg / -270800.2L\n",
      "   ✅ Vehicle GJ07X6453 assigned. Remaining: -2620.6kg / -305800.2L\n",
      "\n",
      "🚚 Assigning to Cluster 3 [Need: 89536.6kg, 47256.8L]\n",
      "   ✅ Vehicle GJ04X2061 assigned. Remaining: 80536.6kg / 12256.8L\n",
      "   ✅ Vehicle GJ14X3727 assigned. Remaining: 71536.6kg / -22743.2L\n",
      "   ✅ Vehicle GJ15X3297 assigned. Remaining: 62536.6kg / -57743.2L\n",
      "   ✅ Vehicle GJ16X6108 assigned. Remaining: 53536.6kg / -92743.2L\n",
      "   ✅ Vehicle GJ19X6467 assigned. Remaining: 44536.6kg / -127743.2L\n",
      "   ✅ Vehicle GJ30X4177 assigned. Remaining: 40536.6kg / -142743.2L\n",
      "   ✅ Vehicle GJ25X9157 assigned. Remaining: 31536.6kg / -177743.2L\n",
      "   ✅ Vehicle GJ01X1085 assigned. Remaining: 22536.6kg / -212743.2L\n",
      "   ✅ Vehicle GJ06X9142 assigned. Remaining: 18536.6kg / -227743.2L\n",
      "   ✅ Vehicle GJ13X2230 assigned. Remaining: 9536.6kg / -262743.2L\n",
      "   ✅ Vehicle GJ04X6241 assigned. Remaining: 536.6kg / -297743.2L\n",
      "   ✅ Vehicle GJ22X7532 assigned. Remaining: -3463.4kg / -312743.2L\n",
      "\n",
      "🚚 Assigning to Cluster 4 [Need: 56177.4kg, 28007.0L]\n",
      "   ✅ Vehicle GJ23X8514 assigned. Remaining: 52177.4kg / 13007.0L\n",
      "   ✅ Vehicle GJ18X9809 assigned. Remaining: 43177.4kg / -21993.0L\n",
      "   ✅ Vehicle GJ21X7008 assigned. Remaining: 34177.4kg / -56993.0L\n",
      "   ✅ Vehicle GJ15X5149 assigned. Remaining: 25177.4kg / -91993.0L\n",
      "   ✅ Vehicle GJ17X1851 assigned. Remaining: 21177.4kg / -106993.0L\n",
      "   ✅ Vehicle GJ23X1668 assigned. Remaining: 12177.4kg / -141993.0L\n",
      "   ✅ Vehicle GJ09X7005 assigned. Remaining: 8177.4kg / -156993.0L\n",
      "   ✅ Vehicle GJ27X2754 assigned. Remaining: 4177.4kg / -171993.0L\n",
      "   ✅ Vehicle GJ10X4612 assigned. Remaining: 177.4kg / -186993.0L\n",
      "   ✅ Vehicle GJ08X3513 assigned. Remaining: -8822.6kg / -221993.0L\n",
      "\n",
      "🚚 Assigning to Cluster 5 [Need: 56566.0kg, 30131.2L]\n",
      "   ✅ Vehicle GJ17X4217 assigned. Remaining: 47566.0kg / -4868.8L\n",
      "   ✅ Vehicle GJ18X2499 assigned. Remaining: 38566.0kg / -39868.8L\n",
      "   ✅ Vehicle GJ22X5898 assigned. Remaining: 29566.0kg / -74868.8L\n",
      "   ✅ Vehicle GJ11X9382 assigned. Remaining: 20566.0kg / -109868.8L\n",
      "   ✅ Vehicle GJ01X2097 assigned. Remaining: 11566.0kg / -144868.8L\n",
      "   ✅ Vehicle GJ11X9180 assigned. Remaining: 2566.0kg / -179868.8L\n",
      "   ✅ Vehicle GJ28X6836 assigned. Remaining: -1434.0kg / -194868.8L\n"
     ]
    }
   ],
   "source": [
    "# --- Step 4: Assign Vehicles ---\n",
    "for i, row in cluster_summary.iterrows():\n",
    "    cluster_id = row[\"Cluster_Label\"]\n",
    "    rem_weight = row[\"Remaining_Weight\"]\n",
    "    rem_volume = row[\"Remaining_Volume\"]\n",
    "\n",
    "    print(f\"\\n🚚 Assigning to Cluster {cluster_id} [Need: {rem_weight}kg, {rem_volume}L]\")\n",
    "\n",
    "    for v_idx, vehicle in df_vehicles.iterrows():\n",
    "        if not df_vehicles.at[v_idx, \"Available\"]:\n",
    "            continue\n",
    "\n",
    "        v_wt = vehicle[\"Weight_Capacity_(kg)\"]\n",
    "        v_vol = vehicle[\"Volume_Capacity_(L)\"]\n",
    "\n",
    "        if rem_weight <= 0 and rem_volume <= 0:\n",
    "            break\n",
    "\n",
    "        # Assign\n",
    "        cluster_summary.at[i, \"Assigned_Vehicles\"].append(vehicle[\"Vehicle_ID\"])\n",
    "        df_vehicles.at[v_idx, \"Available\"] = False\n",
    "        df_vehicles.at[v_idx, \"Used_By_Clusters\"].append(cluster_id)\n",
    "\n",
    "        rem_weight -= v_wt\n",
    "        rem_volume -= v_vol\n",
    "\n",
    "        cluster_summary.at[i, \"Remaining_Weight\"] = rem_weight\n",
    "        cluster_summary.at[i, \"Remaining_Volume\"] = rem_volume\n",
    "\n",
    "        print(f\"   ✅ Vehicle {vehicle['Vehicle_ID']} assigned. Remaining: {rem_weight:.1f}kg / {rem_volume:.1f}L\")\n",
    "\n",
    "    if rem_weight > 0 or rem_volume > 0:\n",
    "        print(f\"❗ Cluster {cluster_id} not fully satisfied.\")\n"
   ]
  },
  {
   "cell_type": "code",
   "execution_count": 45,
   "id": "d28a8fee",
   "metadata": {},
   "outputs": [
    {
     "name": "stdout",
     "output_type": "stream",
     "text": [
      "✅ Assignment mapping built.\n"
     ]
    }
   ],
   "source": [
    "# --- Step 5: Explode Vehicle Assignments ---\n",
    "assignments = []\n",
    "for _, row in cluster_summary.iterrows():\n",
    "    for vid in row[\"Assigned_Vehicles\"]:\n",
    "        assignments.append({\n",
    "            \"Cluster_Label\": row[\"Cluster_Label\"],\n",
    "            \"Vehicle_ID\": vid,\n",
    "            \"Assigned_Vehicles\": \", \".join(row[\"Assigned_Vehicles\"])\n",
    "        })\n",
    "\n",
    "df_assignments = pd.DataFrame(assignments)\n",
    "print(\"✅ Assignment mapping built.\")\n"
   ]
  },
  {
   "cell_type": "code",
   "execution_count": 46,
   "id": "263350c7",
   "metadata": {},
   "outputs": [
    {
     "name": "stdout",
     "output_type": "stream",
     "text": [
      "✅ Final merged dispatch saved at:\n",
      "C:\\Users\\Administrator\\Desktop\\Python\\ML\\ProjectPlan\\clustered_with_vehicle_assignments_final.csv\n"
     ]
    }
   ],
   "source": [
    "# --- Step 6: Merge Full Info (Safe & Clean) ---\n",
    "\n",
    "# Step 6.1: Merge vehicle metadata with assignments first (avoid overwriting during df_clusters merge)\n",
    "df_assignments_merged = df_assignments.merge(\n",
    "    df_vehicles.drop(columns=[\"Available\", \"Used_By_Clusters\"]),\n",
    "    on=\"Vehicle_ID\", how=\"left\"\n",
    ")\n",
    "\n",
    "# Step 6.2: Merge with the full cluster data\n",
    "df_final = df_clusters.merge(df_assignments_merged, on=\"Cluster_Label\", how=\"left\")\n",
    "\n",
    "# Step 6.3: Export result\n",
    "final_path = r\"C:\\Users\\Administrator\\Desktop\\Python\\ML\\ProjectPlan\\clustered_with_vehicle_assignments_final.csv\"\n",
    "df_final.to_csv(final_path, index=False)\n",
    "\n",
    "print(f\"✅ Final merged dispatch saved at:\\n{final_path}\")\n"
   ]
  },
  {
   "cell_type": "code",
   "execution_count": 47,
   "id": "d97d1cdf",
   "metadata": {},
   "outputs": [
    {
     "name": "stdout",
     "output_type": "stream",
     "text": [
      "🔍 Columns in df_assignments: ['Cluster_Label', 'Vehicle_ID', 'Assigned_Vehicles']\n",
      "🔍 Columns in df_vehicles: ['Vehicle_ID', 'Vehicle_Type', 'Capacity_Type', 'Volume_Capacity_(L)', 'Weight_Capacity_(kg)', 'Available', 'Used_By_Clusters']\n",
      "🔍 Columns in df_clusters: ['Assignment_ID', 'Product_ID', 'Urgent_Flag', 'Dispatch_Window', 'Delivery_Window', 'Unit_Weight_(kg)', 'Unit_Volume_(L)', 'Fragile_Flag', 'Temp_Sensitive_Flag', 'Quantity_Assigned', 'Total_Weight', 'Total_Volume', 'Priority_Label', 'Cluster_Label', 'Vehicle_ID', 'Main_Cluster_Label', 'Handling_Group', 'Vehicle_Type', 'Capacity_Type', 'Volume_Capacity_(L)', 'Weight_Capacity_(kg)']\n",
      "🔍 Columns in df_final: ['Assignment_ID', 'Product_ID', 'Urgent_Flag', 'Dispatch_Window', 'Delivery_Window', 'Unit_Weight_(kg)', 'Unit_Volume_(L)', 'Fragile_Flag', 'Temp_Sensitive_Flag', 'Quantity_Assigned', 'Total_Weight', 'Total_Volume', 'Priority_Label', 'Cluster_Label', 'Vehicle_ID_x', 'Main_Cluster_Label', 'Handling_Group', 'Vehicle_Type_x', 'Capacity_Type_x', 'Volume_Capacity_(L)_x', 'Weight_Capacity_(kg)_x', 'Vehicle_ID_y', 'Assigned_Vehicles', 'Vehicle_Type_y', 'Capacity_Type_y', 'Volume_Capacity_(L)_y', 'Weight_Capacity_(kg)_y']\n"
     ]
    }
   ],
   "source": [
    "print(\"🔍 Columns in df_assignments:\", df_assignments.columns.tolist())\n",
    "print(\"🔍 Columns in df_vehicles:\", df_vehicles.columns.tolist())\n",
    "print(\"🔍 Columns in df_clusters:\", df_clusters.columns.tolist())\n",
    "print(\"🔍 Columns in df_final:\", df_final.columns.tolist())\n"
   ]
  },
  {
   "cell_type": "code",
   "execution_count": 49,
   "id": "0153bcfd",
   "metadata": {},
   "outputs": [
    {
     "data": {
      "image/png": "[encoded data removed]",
      "text/plain": [
       "<Figure size 1200x600 with 1 Axes>"
      ]
     },
     "metadata": {},
     "output_type": "display_data"
    }
   ],
   "source": [
    "# Group by Vehicle and count assigned orders + clusters served\n",
    "vehicle_usage_summary = df_final.groupby(\"Vehicle_ID_y\").agg({\n",
    "    \"Cluster_Label\": \"nunique\",            # How many unique clusters it served\n",
    "    \"Assignment_ID\": \"count\"               # How many total orders it was assigned\n",
    "}).rename(columns={\n",
    "    \"Cluster_Label\": \"Clusters_Served\",\n",
    "    \"Assignment_ID\": \"Total_Orders_Assigned\"\n",
    "}).reset_index()\n",
    "\n",
    "\n",
    "import matplotlib.pyplot as plt\n",
    "\n",
    "vehicle_usage_summary.sort_values(\"Total_Orders_Assigned\", ascending=False).head(20).plot(\n",
    "    x=\"Vehicle_ID_y\", y=\"Total_Orders_Assigned\", kind=\"bar\", figsize=(12, 6),\n",
    "    title=\"Top 20 Vehicles by Order Assignment\", legend=False\n",
    ")\n",
    "plt.tight_layout()\n",
    "plt.show()\n"
   ]
  },
  {
   "cell_type": "code",
   "execution_count": 50,
   "id": "acb51c21",
   "metadata": {},
   "outputs": [
    {
     "name": "stdout",
     "output_type": "stream",
     "text": [
      "  Vehicle_ID_y  Clusters_Served  Total_Orders_Assigned\n",
      "0    GJ01X1085                1                   2716\n",
      "1    GJ01X1573                2                   7048\n",
      "2    GJ01X2097                1                   4648\n",
      "3    GJ02X6383                1                   2652\n",
      "4    GJ04X2061                1                   2716\n"
     ]
    }
   ],
   "source": [
    "vehicle_usage_summary = df_final.groupby(\"Vehicle_ID_y\").agg({\n",
    "    \"Cluster_Label\": \"nunique\",\n",
    "    \"Assignment_ID\": \"count\"\n",
    "}).rename(columns={\n",
    "    \"Cluster_Label\": \"Clusters_Served\",\n",
    "    \"Assignment_ID\": \"Total_Orders_Assigned\"\n",
    "}).reset_index()\n",
    "\n",
    "print(vehicle_usage_summary.head())\n"
   ]
  }
 ],
 "metadata": {
  "kernelspec": {
   "display_name": "Python 3",
   "language": "python",
   "name": "python3"
  },
  "language_info": {
   "codemirror_mode": {
    "name": "ipython",
    "version": 3
   },
   "file_extension": ".py",
   "mimetype": "text/x-python",
   "name": "python",
   "nbconvert_exporter": "python",
   "pygments_lexer": "ipython3",
   "version": "3.11.8"
  }
 },
 "nbformat": 4,
 "nbformat_minor": 5
}
