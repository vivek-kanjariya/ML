{
 "cells": [
  {
   "cell_type": "code",
   "execution_count": 11,
   "id": "2c694937",
   "metadata": {},
   "outputs": [],
   "source": [
    "import pandas as pd\n",
    "import numpy as np\n",
    "from sklearn.model_selection import train_test_split\n",
    "from sklearn.ensemble import RandomForestClassifier\n",
    "from sklearn.preprocessing import LabelEncoder\n",
    "from sklearn.metrics import classification_report, confusion_matrix\n",
    "import pickle\n",
    "import matplotlib.pyplot as plt\n",
    "import seaborn as sns\n"
   ]
  },
  {
   "cell_type": "code",
   "execution_count": 13,
   "id": "0a4c7df6",
   "metadata": {},
   "outputs": [],
   "source": [
    "def assign_priority_fuzzy_sigmoid_robust(row,\n",
    "                                         expiry_threshold=120,\n",
    "                                         delivery_threshold=10,\n",
    "                                         high_cutoff=0.6,\n",
    "                                         medium_cutoff=0.4,\n",
    "                                         weights=None,\n",
    "                                         k=0.08):\n",
    "    if weights is None:\n",
    "        weights = {\n",
    "            'expiry': 0.4,\n",
    "            'delivery': 0.3,\n",
    "            'urgent': 0.2,\n",
    "            'temp': 0.05,\n",
    "            'fragile': 0.05\n",
    "        }\n",
    "\n",
    "    expiry_days = row['Expiry_Days_Left']\n",
    "    delivery_days = row['Delivery_Window_Days']\n",
    "\n",
    "    expiry_score = 1 / (1 + np.exp(k * (expiry_days - expiry_threshold)))\n",
    "    delivery_score = 1 / (1 + np.exp(k * (delivery_days - delivery_threshold)))\n",
    "\n",
    "    urgent_score = 1 if row['Urgent_Order_Flag'] == 'Yes' else 0\n",
    "    temp_score = 1 if row['Temp_Sensitive'] == 'Yes' else 0\n",
    "    fragile_score = 1 if row['Fragility'] == 'Yes' else 0\n",
    "\n",
    "    if expiry_days <= 30 and row['Urgent_Order_Flag'] == 'Yes':\n",
    "        return 'High'\n",
    "    if expiry_days <= 30 and row['Temp_Sensitive'] == 'Yes':\n",
    "        return 'High'\n",
    "    if delivery_days <= 5 and row['Urgent_Order_Flag'] == 'Yes':\n",
    "        return 'High'\n",
    "    if expiry_days <= 10 and delivery_days <= 5:\n",
    "        return 'High'\n",
    "    if row['Urgent_Order_Flag'] == 'Yes' and row['Fragility'] == 'Yes':\n",
    "        return 'High'\n",
    "    if expiry_days > 600 and delivery_days > 45 and row['Urgent_Order_Flag'] == 'No':\n",
    "        return 'Low'\n",
    "\n",
    "    total_score = (\n",
    "        expiry_score * weights['expiry'] +\n",
    "        delivery_score * weights['delivery'] +\n",
    "        urgent_score * weights['urgent'] +\n",
    "        temp_score * weights['temp'] +\n",
    "        fragile_score * weights['fragile']\n",
    "    )\n",
    "\n",
    "    if total_score >= high_cutoff:\n",
    "        return 'High'\n",
    "    elif total_score >= medium_cutoff:\n",
    "        return 'Medium'\n",
    "    else:\n",
    "        return 'Low'\n"
   ]
  },
  {
   "cell_type": "code",
   "execution_count": 15,
   "id": "78e462fb",
   "metadata": {},
   "outputs": [],
   "source": [
    "# Load your full dataset (6000+ rows)\n",
    "main_set = r\"C:\\Users\\Administrator\\Desktop\\Python\\ML\\ProjectPlan\\clustered_with_vehicle_assignments_final.csv\"\n",
    "df = pd.read_csv(main_set)\n",
    "\n",
    "# Rename to match fuzzy logic keys\n",
    "df.rename(columns={\n",
    "    'Urgent_Flag': 'Urgent_Order_Flag',\n",
    "    'Temp_Sensitive_Flag': 'Temp_Sensitive',\n",
    "    'Fragile_Flag': 'Fragility'\n",
    "}, inplace=True)\n",
    "\n",
    "# Convert Flags from 1/0 → 'Yes'/'No'\n",
    "for col in ['Urgent_Order_Flag', 'Temp_Sensitive', 'Fragility']:\n",
    "    df[col] = df[col].replace({1: 'Yes', 0: 'No'})\n"
   ]
  },
  {
   "cell_type": "code",
   "execution_count": 20,
   "id": "d559940f",
   "metadata": {},
   "outputs": [
    {
     "data": {
      "text/html": [
       "<div>\n",
       "<style scoped>\n",
       "    .dataframe tbody tr th:only-of-type {\n",
       "        vertical-align: middle;\n",
       "    }\n",
       "\n",
       "    .dataframe tbody tr th {\n",
       "        vertical-align: top;\n",
       "    }\n",
       "\n",
       "    .dataframe thead th {\n",
       "        text-align: right;\n",
       "    }\n",
       "</style>\n",
       "<table border=\"1\" class=\"dataframe\">\n",
       "  <thead>\n",
       "    <tr style=\"text-align: right;\">\n",
       "      <th></th>\n",
       "      <th>Product_ID</th>\n",
       "      <th>Expiry_Date</th>\n",
       "      <th>Expiry_Days_Left</th>\n",
       "    </tr>\n",
       "  </thead>\n",
       "  <tbody>\n",
       "    <tr>\n",
       "      <th>0</th>\n",
       "      <td>TOP-1005-B43-854</td>\n",
       "      <td>2026-01-10</td>\n",
       "      <td>188</td>\n",
       "    </tr>\n",
       "    <tr>\n",
       "      <th>1</th>\n",
       "      <td>TOP-1005-B43-854</td>\n",
       "      <td>2026-01-10</td>\n",
       "      <td>188</td>\n",
       "    </tr>\n",
       "    <tr>\n",
       "      <th>2</th>\n",
       "      <td>TOP-1005-B43-854</td>\n",
       "      <td>2026-01-10</td>\n",
       "      <td>188</td>\n",
       "    </tr>\n",
       "    <tr>\n",
       "      <th>3</th>\n",
       "      <td>TOP-1005-B43-854</td>\n",
       "      <td>2026-01-10</td>\n",
       "      <td>188</td>\n",
       "    </tr>\n",
       "    <tr>\n",
       "      <th>4</th>\n",
       "      <td>TOP-1005-B43-854</td>\n",
       "      <td>2026-01-10</td>\n",
       "      <td>188</td>\n",
       "    </tr>\n",
       "  </tbody>\n",
       "</table>\n",
       "</div>"
      ],
      "text/plain": [
       "         Product_ID Expiry_Date  Expiry_Days_Left\n",
       "0  TOP-1005-B43-854  2026-01-10               188\n",
       "1  TOP-1005-B43-854  2026-01-10               188\n",
       "2  TOP-1005-B43-854  2026-01-10               188\n",
       "3  TOP-1005-B43-854  2026-01-10               188\n",
       "4  TOP-1005-B43-854  2026-01-10               188"
      ]
     },
     "execution_count": 20,
     "metadata": {},
     "output_type": "execute_result"
    }
   ],
   "source": [
    "  # Your main assignment dataset\n",
    "\n",
    "product_dataset = r\"C:\\Users\\Administrator\\Desktop\\Python\\ML\\DataSets\\RawDataSets\\products\\products.csv\"\n",
    "products_df = pd.read_csv(product_dataset)        # Product master with Expiry_Date\n",
    "# Load both datasets\n",
    "df = pd.read_csv(main_set)  # your main dataframe\n",
    "products_df = pd.read_csv(product_dataset)  # has 'Product_ID' and 'Expiry_Date'\n",
    "\n",
    "# Check required columns\n",
    "assert 'Product_ID' in df.columns, \"Product_ID missing in main dataset\"\n",
    "assert 'Product_ID' in products_df.columns, \"Product_ID missing in product dataset\"\n",
    "assert 'Expiry_Date' in products_df.columns, \"Expiry_Date missing in product dataset\"\n",
    "\n",
    "# Convert date columns to datetime\n",
    "df['Dispatch_Window'] = pd.to_datetime(df['Dispatch_Window'], errors='coerce')\n",
    "df['Delivery_Window'] = pd.to_datetime(df['Delivery_Window'], errors='coerce')\n",
    "products_df['Expiry_Date'] = pd.to_datetime(products_df['Expiry_Date'], errors='coerce')\n",
    "\n",
    "# Merge Expiry_Date into main df using Product_ID\n",
    "df = df.merge(products_df[['Product_ID', 'Expiry_Date']], on='Product_ID', how='left')\n",
    "\n",
    "# Calculate derived columns\n",
    "today = pd.Timestamp.today().normalize()\n",
    "df['Delivery_Window_Days'] = (df['Delivery_Window'] - df['Dispatch_Window']).dt.days\n",
    "df['Expiry_Days_Left'] = (df['Expiry_Date'] - today).dt.days\n",
    "\n",
    "# Drop rows with invalid dates\n",
    "df.dropna(subset=['Dispatch_Window', 'Delivery_Window', 'Expiry_Date'], inplace=True)\n",
    "\n",
    "# Preview\n",
    "df[['Product_ID', 'Expiry_Date', 'Expiry_Days_Left']].head()\n"
   ]
  },
  {
   "cell_type": "code",
   "execution_count": 21,
   "id": "d48bb060",
   "metadata": {},
   "outputs": [],
   "source": [
    "# Convert dispatch/delivery/expiry columns\n",
    "df['Dispatch_Window'] = pd.to_datetime(df['Dispatch_Window'], errors='coerce')\n",
    "df['Delivery_Window'] = pd.to_datetime(df['Delivery_Window'], errors='coerce')\n",
    "df['Expiry_Date'] = pd.to_datetime(df['Expiry_Date'], errors='coerce')\n",
    "\n",
    "today = pd.Timestamp.today().normalize()\n",
    "\n",
    "df['Delivery_Window_Days'] = (df['Delivery_Window'] - df['Dispatch_Window']).dt.days\n",
    "df['Expiry_Days_Left'] = (df['Expiry_Date'] - today).dt.days\n",
    "\n",
    "# Drop rows with bad dates\n",
    "df.dropna(subset=['Dispatch_Window', 'Delivery_Window', 'Expiry_Date'], inplace=True)\n"
   ]
  },
  {
   "cell_type": "code",
   "execution_count": 23,
   "id": "f734a7fc",
   "metadata": {},
   "outputs": [],
   "source": [
    "# 🔄 Rename columns to match fuzzy logic function input\n",
    "df.rename(columns={\n",
    "    'Urgent_Flag': 'Urgent_Order_Flag',\n",
    "    'Temp_Sensitive_Flag': 'Temp_Sensitive',\n",
    "    'Fragile_Flag': 'Fragility'\n",
    "}, inplace=True)\n",
    "\n",
    "# 🔁 Convert binary to 'Yes'/'No' as required by fuzzy logic\n",
    "df['Urgent_Order_Flag'] = df['Urgent_Order_Flag'].map({1: 'Yes', 0: 'No'})\n",
    "df['Temp_Sensitive'] = df['Temp_Sensitive'].map({1: 'Yes', 0: 'No'})\n",
    "df['Fragility'] = df['Fragility'].map({1: 'Yes', 0: 'No'})\n"
   ]
  },
  {
   "cell_type": "code",
   "execution_count": 24,
   "id": "6a2381b6",
   "metadata": {},
   "outputs": [
    {
     "name": "stdout",
     "output_type": "stream",
     "text": [
      "Priority_Label\n",
      "High      155424\n",
      "Low        33948\n",
      "Medium      7812\n",
      "Name: count, dtype: int64\n"
     ]
    }
   ],
   "source": [
    "df['Priority_Label'] = df.apply(assign_priority_fuzzy_sigmoid_robust, axis=1)\n",
    "\n",
    "print(df['Priority_Label'].value_counts())\n"
   ]
  },
  {
   "cell_type": "code",
   "execution_count": 25,
   "id": "3b1b2d19",
   "metadata": {},
   "outputs": [],
   "source": [
    "# Binary encode flags again for ML input\n",
    "df['Urgent_Order_Flag'] = df['Urgent_Order_Flag'].map({'Yes': 1, 'No': 0})\n",
    "df['Temp_Sensitive'] = df['Temp_Sensitive'].map({'Yes': 1, 'No': 0})\n",
    "df['Fragility'] = df['Fragility'].map({'Yes': 1, 'No': 0})\n",
    "\n",
    "features = [\n",
    "    'Expiry_Days_Left',\n",
    "    'Delivery_Window_Days',\n",
    "    'Urgent_Order_Flag',\n",
    "    'Temp_Sensitive',\n",
    "    'Fragility'\n",
    "]\n",
    "\n",
    "# Encode target\n",
    "le = LabelEncoder()\n",
    "df['Priority_Label_Encoded'] = le.fit_transform(df['Priority_Label'])\n"
   ]
  },
  {
   "cell_type": "code",
   "execution_count": 26,
   "id": "8069a03f",
   "metadata": {},
   "outputs": [
    {
     "data": {
      "text/html": [
       "<style>#sk-container-id-1 {color: black;}#sk-container-id-1 pre{padding: 0;}#sk-container-id-1 div.sk-toggleable {background-color: white;}#sk-container-id-1 label.sk-toggleable__label {cursor: pointer;display: block;width: 100%;margin-bottom: 0;padding: 0.3em;box-sizing: border-box;text-align: center;}#sk-container-id-1 label.sk-toggleable__label-arrow:before {content: \"▸\";float: left;margin-right: 0.25em;color: #696969;}#sk-container-id-1 label.sk-toggleable__label-arrow:hover:before {color: black;}#sk-container-id-1 div.sk-estimator:hover label.sk-toggleable__label-arrow:before {color: black;}#sk-container-id-1 div.sk-toggleable__content {max-height: 0;max-width: 0;overflow: hidden;text-align: left;background-color: #f0f8ff;}#sk-container-id-1 div.sk-toggleable__content pre {margin: 0.2em;color: black;border-radius: 0.25em;background-color: #f0f8ff;}#sk-container-id-1 input.sk-toggleable__control:checked~div.sk-toggleable__content {max-height: 200px;max-width: 100%;overflow: auto;}#sk-container-id-1 input.sk-toggleable__control:checked~label.sk-toggleable__label-arrow:before {content: \"▾\";}#sk-container-id-1 div.sk-estimator input.sk-toggleable__control:checked~label.sk-toggleable__label {background-color: #d4ebff;}#sk-container-id-1 div.sk-label input.sk-toggleable__control:checked~label.sk-toggleable__label {background-color: #d4ebff;}#sk-container-id-1 input.sk-hidden--visually {border: 0;clip: rect(1px 1px 1px 1px);clip: rect(1px, 1px, 1px, 1px);height: 1px;margin: -1px;overflow: hidden;padding: 0;position: absolute;width: 1px;}#sk-container-id-1 div.sk-estimator {font-family: monospace;background-color: #f0f8ff;border: 1px dotted black;border-radius: 0.25em;box-sizing: border-box;margin-bottom: 0.5em;}#sk-container-id-1 div.sk-estimator:hover {background-color: #d4ebff;}#sk-container-id-1 div.sk-parallel-item::after {content: \"\";width: 100%;border-bottom: 1px solid gray;flex-grow: 1;}#sk-container-id-1 div.sk-label:hover label.sk-toggleable__label {background-color: #d4ebff;}#sk-container-id-1 div.sk-serial::before {content: \"\";position: absolute;border-left: 1px solid gray;box-sizing: border-box;top: 0;bottom: 0;left: 50%;z-index: 0;}#sk-container-id-1 div.sk-serial {display: flex;flex-direction: column;align-items: center;background-color: white;padding-right: 0.2em;padding-left: 0.2em;position: relative;}#sk-container-id-1 div.sk-item {position: relative;z-index: 1;}#sk-container-id-1 div.sk-parallel {display: flex;align-items: stretch;justify-content: center;background-color: white;position: relative;}#sk-container-id-1 div.sk-item::before, #sk-container-id-1 div.sk-parallel-item::before {content: \"\";position: absolute;border-left: 1px solid gray;box-sizing: border-box;top: 0;bottom: 0;left: 50%;z-index: -1;}#sk-container-id-1 div.sk-parallel-item {display: flex;flex-direction: column;z-index: 1;position: relative;background-color: white;}#sk-container-id-1 div.sk-parallel-item:first-child::after {align-self: flex-end;width: 50%;}#sk-container-id-1 div.sk-parallel-item:last-child::after {align-self: flex-start;width: 50%;}#sk-container-id-1 div.sk-parallel-item:only-child::after {width: 0;}#sk-container-id-1 div.sk-dashed-wrapped {border: 1px dashed gray;margin: 0 0.4em 0.5em 0.4em;box-sizing: border-box;padding-bottom: 0.4em;background-color: white;}#sk-container-id-1 div.sk-label label {font-family: monospace;font-weight: bold;display: inline-block;line-height: 1.2em;}#sk-container-id-1 div.sk-label-container {text-align: center;}#sk-container-id-1 div.sk-container {/* jupyter's `normalize.less` sets `[hidden] { display: none; }` but bootstrap.min.css set `[hidden] { display: none !important; }` so we also need the `!important` here to be able to override the default hidden behavior on the sphinx rendered scikit-learn.org. See: https://github.com/scikit-learn/scikit-learn/issues/21755 */display: inline-block !important;position: relative;}#sk-container-id-1 div.sk-text-repr-fallback {display: none;}</style><div id=\"sk-container-id-1\" class=\"sk-top-container\"><div class=\"sk-text-repr-fallback\"><pre>RandomForestClassifier(max_depth=10, n_estimators=150, random_state=42)</pre><b>In a Jupyter environment, please rerun this cell to show the HTML representation or trust the notebook. <br />On GitHub, the HTML representation is unable to render, please try loading this page with nbviewer.org.</b></div><div class=\"sk-container\" hidden><div class=\"sk-item\"><div class=\"sk-estimator sk-toggleable\"><input class=\"sk-toggleable__control sk-hidden--visually\" id=\"sk-estimator-id-1\" type=\"checkbox\" checked><label for=\"sk-estimator-id-1\" class=\"sk-toggleable__label sk-toggleable__label-arrow\">RandomForestClassifier</label><div class=\"sk-toggleable__content\"><pre>RandomForestClassifier(max_depth=10, n_estimators=150, random_state=42)</pre></div></div></div></div></div>"
      ],
      "text/plain": [
       "RandomForestClassifier(max_depth=10, n_estimators=150, random_state=42)"
      ]
     },
     "execution_count": 26,
     "metadata": {},
     "output_type": "execute_result"
    }
   ],
   "source": [
    "X = df[features]\n",
    "y = df['Priority_Label_Encoded']\n",
    "\n",
    "X_train, X_test, y_train, y_test = train_test_split(\n",
    "    X, y, test_size=0.2, stratify=y, random_state=42\n",
    ")\n",
    "\n",
    "clf = RandomForestClassifier(n_estimators=150, max_depth=10, random_state=42)\n",
    "clf.fit(X_train, y_train)\n"
   ]
  },
  {
   "cell_type": "code",
   "execution_count": 27,
   "id": "f172e256",
   "metadata": {},
   "outputs": [
    {
     "name": "stdout",
     "output_type": "stream",
     "text": [
      "Classification Report:\n",
      "               precision    recall  f1-score   support\n",
      "\n",
      "           0       1.00      1.00      1.00     31085\n",
      "           1       1.00      1.00      1.00      6790\n",
      "           2       1.00      1.00      1.00      1562\n",
      "\n",
      "    accuracy                           1.00     39437\n",
      "   macro avg       1.00      1.00      1.00     39437\n",
      "weighted avg       1.00      1.00      1.00     39437\n",
      "\n"
     ]
    },
    {
     "data": {
      "image/png": "[encoded data removed]",
      "text/plain": [
       "<Figure size 640x480 with 2 Axes>"
      ]
     },
     "metadata": {},
     "output_type": "display_data"
    }
   ],
   "source": [
    "y_pred = clf.predict(X_test)\n",
    "\n",
    "print(\"Classification Report:\\n\", classification_report(y_test, y_pred))\n",
    "\n",
    "cm = confusion_matrix(y_test, y_pred)\n",
    "sns.heatmap(cm, annot=True, fmt='d', xticklabels=le.classes_, yticklabels=le.classes_)\n",
    "plt.xlabel(\"Predicted\")\n",
    "plt.ylabel(\"True\")\n",
    "plt.title(\"Confusion Matrix\")\n",
    "plt.show()\n"
   ]
  },
  {
   "cell_type": "code",
   "execution_count": 28,
   "id": "c4c0ab80",
   "metadata": {},
   "outputs": [
    {
     "name": "stdout",
     "output_type": "stream",
     "text": [
      "✅ Model & LabelEncoder saved successfully.\n"
     ]
    }
   ],
   "source": [
    "with open(\"priority_model.pkl\", \"wb\") as f:\n",
    "    pickle.dump(clf, f)\n",
    "\n",
    "with open(\"priority_label_encoder.pkl\", \"wb\") as f:\n",
    "    pickle.dump(le, f)\n",
    "\n",
    "print(\"✅ Model & LabelEncoder saved successfully.\")\n"
   ]
  },
  {
   "cell_type": "code",
   "execution_count": 29,
   "id": "5adeb9c5",
   "metadata": {},
   "outputs": [
    {
     "name": "stdout",
     "output_type": "stream",
     "text": [
      "   Expiry_Days_Left  Delivery_Window_Days  Urgent_Order_Flag  Temp_Sensitive  \\\n",
      "0                15                     3                  1               1   \n",
      "1               300                    20                  0               0   \n",
      "2                 5                     2                  1               0   \n",
      "3               700                    60                  0               0   \n",
      "\n",
      "   Fragility Predicted_Priority  \n",
      "0          0               High  \n",
      "1          1                Low  \n",
      "2          1               High  \n",
      "3          0                Low  \n"
     ]
    }
   ],
   "source": [
    "import pandas as pd\n",
    "import pickle\n",
    "\n",
    "# -------------------------------\n",
    "# ✅ Step 1: Sample Input Data (Simulated)\n",
    "# -------------------------------\n",
    "sample_inputs = [\n",
    "    {\n",
    "        \"Expiry_Days_Left\": 15,\n",
    "        \"Delivery_Window_Days\": 3,\n",
    "        \"Urgent_Order_Flag\": 1,\n",
    "        \"Temp_Sensitive\": 1,\n",
    "        \"Fragility\": 0\n",
    "    },\n",
    "    {\n",
    "        \"Expiry_Days_Left\": 300,\n",
    "        \"Delivery_Window_Days\": 20,\n",
    "        \"Urgent_Order_Flag\": 0,\n",
    "        \"Temp_Sensitive\": 0,\n",
    "        \"Fragility\": 1\n",
    "    },\n",
    "    {\n",
    "        \"Expiry_Days_Left\": 5,\n",
    "        \"Delivery_Window_Days\": 2,\n",
    "        \"Urgent_Order_Flag\": 1,\n",
    "        \"Temp_Sensitive\": 0,\n",
    "        \"Fragility\": 1\n",
    "    },\n",
    "    {\n",
    "        \"Expiry_Days_Left\": 700,\n",
    "        \"Delivery_Window_Days\": 60,\n",
    "        \"Urgent_Order_Flag\": 0,\n",
    "        \"Temp_Sensitive\": 0,\n",
    "        \"Fragility\": 0\n",
    "    }\n",
    "]\n",
    "\n",
    "# -------------------------------\n",
    "# ✅ Step 2: Convert to DataFrame\n",
    "# -------------------------------\n",
    "input_df = pd.DataFrame(sample_inputs)\n",
    "\n",
    "# Ensure all required columns exist\n",
    "required_cols = ['Expiry_Days_Left', 'Delivery_Window_Days', 'Urgent_Order_Flag', 'Temp_Sensitive', 'Fragility']\n",
    "assert all(col in input_df.columns for col in required_cols), \"Missing input columns\"\n",
    "\n",
    "# -------------------------------\n",
    "# ✅ Step 3: Load Trained Model and Label Encoder\n",
    "# -------------------------------\n",
    "with open(\"priority_model.pkl\", \"rb\") as f:\n",
    "    clf = pickle.load(f)\n",
    "\n",
    "with open(\"priority_label_encoder.pkl\", \"rb\") as f:\n",
    "    le = pickle.load(f)\n",
    "\n",
    "# -------------------------------\n",
    "# ✅ Step 4: Predict Priorities\n",
    "# -------------------------------\n",
    "pred_encoded = clf.predict(input_df)\n",
    "pred_labels = le.inverse_transform(pred_encoded)\n",
    "\n",
    "# -------------------------------\n",
    "# ✅ Step 5: Attach Result to DataFrame\n",
    "# -------------------------------\n",
    "input_df['Predicted_Priority'] = pred_labels\n",
    "\n",
    "# Output results\n",
    "print(input_df)\n"
   ]
  }
 ],
 "metadata": {
  "kernelspec": {
   "display_name": "Python 3",
   "language": "python",
   "name": "python3"
  },
  "language_info": {
   "codemirror_mode": {
    "name": "ipython",
    "version": 3
   },
   "file_extension": ".py",
   "mimetype": "text/x-python",
   "name": "python",
   "nbconvert_exporter": "python",
   "pygments_lexer": "ipython3",
   "version": "3.11.8"
  }
 },
 "nbformat": 4,
 "nbformat_minor": 5
}
