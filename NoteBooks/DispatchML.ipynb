{
  "cells": [
    {
      "cell_type": "code",
      "execution_count": null,
      "id": "f232a277",
      "metadata": {
        "colab": {
          "base_uri": "https://localhost:8080/",
          "height": 371
        },
        "id": "f232a277",
        "outputId": "74db9489-1c8a-4f7d-ced9-e1667f79f625"
      },
      "outputs": [],
      "source": [
        "# Loading Dataset\n",
        "\n",
        "import pandas as pd\n",
        "df = pd.read_csv(\"../DataSets/Transport_AssignmentsRAW.csv\")\n",
        "# Transport_AssignmentsRAW\n",
        "# df.head(5)\n",
        "# print(df.head(2))\n",
        "# DIsssSdata\n",
        "df.info()"
      ]
    },
    {
      "cell_type": "code",
      "execution_count": null,
      "id": "0c670906",
      "metadata": {
        "id": "0c670906"
      },
      "outputs": [
        {
          "name": "stdout",
          "output_type": "stream",
          "text": [
            "Initial shape: (197184, 27)\n"
          ]
        },
        {
          "data": {
            "text/html": [
              "<div>\n",
              "<style scoped>\n",
              "    .dataframe tbody tr th:only-of-type {\n",
              "        vertical-align: middle;\n",
              "    }\n",
              "\n",
              "    .dataframe tbody tr th {\n",
              "        vertical-align: top;\n",
              "    }\n",
              "\n",
              "    .dataframe thead th {\n",
              "        text-align: right;\n",
              "    }\n",
              "</style>\n",
              "<table border=\"1\" class=\"dataframe\">\n",
              "  <thead>\n",
              "    <tr style=\"text-align: right;\">\n",
              "      <th></th>\n",
              "      <th>Assignment_ID</th>\n",
              "      <th>Product_ID</th>\n",
              "      <th>Urgent_Flag</th>\n",
              "      <th>Dispatch_Window</th>\n",
              "      <th>Delivery_Window</th>\n",
              "      <th>Unit_Weight_(kg)</th>\n",
              "      <th>Unit_Volume_(L)</th>\n",
              "      <th>Fragile_Flag</th>\n",
              "      <th>Temp_Sensitive_Flag</th>\n",
              "      <th>Quantity_Assigned</th>\n",
              "      <th>...</th>\n",
              "      <th>Vehicle_Type_x</th>\n",
              "      <th>Capacity_Type_x</th>\n",
              "      <th>Volume_Capacity_(L)_x</th>\n",
              "      <th>Weight_Capacity_(kg)_x</th>\n",
              "      <th>Vehicle_ID_y</th>\n",
              "      <th>Assigned_Vehicles</th>\n",
              "      <th>Vehicle_Type_y</th>\n",
              "      <th>Capacity_Type_y</th>\n",
              "      <th>Volume_Capacity_(L)_y</th>\n",
              "      <th>Weight_Capacity_(kg)_y</th>\n",
              "    </tr>\n",
              "  </thead>\n",
              "  <tbody>\n",
              "    <tr>\n",
              "      <th>0</th>\n",
              "      <td>ZONE-3::RACK-1::854::GJ27X6555</td>\n",
              "      <td>TOP-1005-B43-854</td>\n",
              "      <td>1</td>\n",
              "      <td>2025-07-04</td>\n",
              "      <td>2025-07-07</td>\n",
              "      <td>1.8</td>\n",
              "      <td>1.0</td>\n",
              "      <td>1</td>\n",
              "      <td>0</td>\n",
              "      <td>27</td>\n",
              "      <td>...</td>\n",
              "      <td>Specialised</td>\n",
              "      <td>Sp.Van</td>\n",
              "      <td>15000</td>\n",
              "      <td>4000</td>\n",
              "      <td>GJ17X4217</td>\n",
              "      <td>GJ17X4217, GJ18X2499, GJ22X5898, GJ11X9382, GJ...</td>\n",
              "      <td>General</td>\n",
              "      <td>Truck</td>\n",
              "      <td>35000</td>\n",
              "      <td>9000</td>\n",
              "    </tr>\n",
              "    <tr>\n",
              "      <th>1</th>\n",
              "      <td>ZONE-3::RACK-1::854::GJ27X6555</td>\n",
              "      <td>TOP-1005-B43-854</td>\n",
              "      <td>1</td>\n",
              "      <td>2025-07-04</td>\n",
              "      <td>2025-07-07</td>\n",
              "      <td>1.8</td>\n",
              "      <td>1.0</td>\n",
              "      <td>1</td>\n",
              "      <td>0</td>\n",
              "      <td>27</td>\n",
              "      <td>...</td>\n",
              "      <td>Specialised</td>\n",
              "      <td>Sp.Van</td>\n",
              "      <td>15000</td>\n",
              "      <td>4000</td>\n",
              "      <td>GJ17X4217</td>\n",
              "      <td>GJ17X4217, GJ18X2499, GJ22X5898, GJ11X9382, GJ...</td>\n",
              "      <td>Specialised</td>\n",
              "      <td>Sp.Van</td>\n",
              "      <td>15000</td>\n",
              "      <td>4000</td>\n",
              "    </tr>\n",
              "    <tr>\n",
              "      <th>2</th>\n",
              "      <td>ZONE-3::RACK-1::854::GJ27X6555</td>\n",
              "      <td>TOP-1005-B43-854</td>\n",
              "      <td>1</td>\n",
              "      <td>2025-07-04</td>\n",
              "      <td>2025-07-07</td>\n",
              "      <td>1.8</td>\n",
              "      <td>1.0</td>\n",
              "      <td>1</td>\n",
              "      <td>0</td>\n",
              "      <td>27</td>\n",
              "      <td>...</td>\n",
              "      <td>Specialised</td>\n",
              "      <td>Sp.Van</td>\n",
              "      <td>15000</td>\n",
              "      <td>4000</td>\n",
              "      <td>GJ18X2499</td>\n",
              "      <td>GJ17X4217, GJ18X2499, GJ22X5898, GJ11X9382, GJ...</td>\n",
              "      <td>General</td>\n",
              "      <td>Truck</td>\n",
              "      <td>35000</td>\n",
              "      <td>9000</td>\n",
              "    </tr>\n",
              "    <tr>\n",
              "      <th>3</th>\n",
              "      <td>ZONE-3::RACK-1::854::GJ27X6555</td>\n",
              "      <td>TOP-1005-B43-854</td>\n",
              "      <td>1</td>\n",
              "      <td>2025-07-04</td>\n",
              "      <td>2025-07-07</td>\n",
              "      <td>1.8</td>\n",
              "      <td>1.0</td>\n",
              "      <td>1</td>\n",
              "      <td>0</td>\n",
              "      <td>27</td>\n",
              "      <td>...</td>\n",
              "      <td>Specialised</td>\n",
              "      <td>Sp.Van</td>\n",
              "      <td>15000</td>\n",
              "      <td>4000</td>\n",
              "      <td>GJ18X2499</td>\n",
              "      <td>GJ17X4217, GJ18X2499, GJ22X5898, GJ11X9382, GJ...</td>\n",
              "      <td>Specialised</td>\n",
              "      <td>Sp.Van</td>\n",
              "      <td>15000</td>\n",
              "      <td>4000</td>\n",
              "    </tr>\n",
              "    <tr>\n",
              "      <th>4</th>\n",
              "      <td>ZONE-3::RACK-1::854::GJ27X6555</td>\n",
              "      <td>TOP-1005-B43-854</td>\n",
              "      <td>1</td>\n",
              "      <td>2025-07-04</td>\n",
              "      <td>2025-07-07</td>\n",
              "      <td>1.8</td>\n",
              "      <td>1.0</td>\n",
              "      <td>1</td>\n",
              "      <td>0</td>\n",
              "      <td>27</td>\n",
              "      <td>...</td>\n",
              "      <td>Specialised</td>\n",
              "      <td>Sp.Van</td>\n",
              "      <td>15000</td>\n",
              "      <td>4000</td>\n",
              "      <td>GJ22X5898</td>\n",
              "      <td>GJ17X4217, GJ18X2499, GJ22X5898, GJ11X9382, GJ...</td>\n",
              "      <td>General</td>\n",
              "      <td>Truck</td>\n",
              "      <td>35000</td>\n",
              "      <td>9000</td>\n",
              "    </tr>\n",
              "  </tbody>\n",
              "</table>\n",
              "<p>5 rows × 27 columns</p>\n",
              "</div>"
            ],
            "text/plain": [
              "                    Assignment_ID        Product_ID  Urgent_Flag  \\\n",
              "0  ZONE-3::RACK-1::854::GJ27X6555  TOP-1005-B43-854            1   \n",
              "1  ZONE-3::RACK-1::854::GJ27X6555  TOP-1005-B43-854            1   \n",
              "2  ZONE-3::RACK-1::854::GJ27X6555  TOP-1005-B43-854            1   \n",
              "3  ZONE-3::RACK-1::854::GJ27X6555  TOP-1005-B43-854            1   \n",
              "4  ZONE-3::RACK-1::854::GJ27X6555  TOP-1005-B43-854            1   \n",
              "\n",
              "  Dispatch_Window Delivery_Window  Unit_Weight_(kg)  Unit_Volume_(L)  \\\n",
              "0      2025-07-04      2025-07-07               1.8              1.0   \n",
              "1      2025-07-04      2025-07-07               1.8              1.0   \n",
              "2      2025-07-04      2025-07-07               1.8              1.0   \n",
              "3      2025-07-04      2025-07-07               1.8              1.0   \n",
              "4      2025-07-04      2025-07-07               1.8              1.0   \n",
              "\n",
              "   Fragile_Flag  Temp_Sensitive_Flag  Quantity_Assigned  ...  Vehicle_Type_x  \\\n",
              "0             1                    0                 27  ...     Specialised   \n",
              "1             1                    0                 27  ...     Specialised   \n",
              "2             1                    0                 27  ...     Specialised   \n",
              "3             1                    0                 27  ...     Specialised   \n",
              "4             1                    0                 27  ...     Specialised   \n",
              "\n",
              "   Capacity_Type_x  Volume_Capacity_(L)_x  Weight_Capacity_(kg)_x  \\\n",
              "0           Sp.Van                  15000                    4000   \n",
              "1           Sp.Van                  15000                    4000   \n",
              "2           Sp.Van                  15000                    4000   \n",
              "3           Sp.Van                  15000                    4000   \n",
              "4           Sp.Van                  15000                    4000   \n",
              "\n",
              "  Vehicle_ID_y                                  Assigned_Vehicles  \\\n",
              "0    GJ17X4217  GJ17X4217, GJ18X2499, GJ22X5898, GJ11X9382, GJ...   \n",
              "1    GJ17X4217  GJ17X4217, GJ18X2499, GJ22X5898, GJ11X9382, GJ...   \n",
              "2    GJ18X2499  GJ17X4217, GJ18X2499, GJ22X5898, GJ11X9382, GJ...   \n",
              "3    GJ18X2499  GJ17X4217, GJ18X2499, GJ22X5898, GJ11X9382, GJ...   \n",
              "4    GJ22X5898  GJ17X4217, GJ18X2499, GJ22X5898, GJ11X9382, GJ...   \n",
              "\n",
              "  Vehicle_Type_y Capacity_Type_y Volume_Capacity_(L)_y  Weight_Capacity_(kg)_y  \n",
              "0        General           Truck                 35000                    9000  \n",
              "1    Specialised          Sp.Van                 15000                    4000  \n",
              "2        General           Truck                 35000                    9000  \n",
              "3    Specialised          Sp.Van                 15000                    4000  \n",
              "4        General           Truck                 35000                    9000  \n",
              "\n",
              "[5 rows x 27 columns]"
            ]
          },
          "execution_count": 5,
          "metadata": {},
          "output_type": "execute_result"
        }
      ],
      "source": [
        "# Convert string columns to datetime\n",
        "df['Expiry_Date'] = pd.to_datetime(df['Expiry_Date'], format='%d/%m/%Y')\n",
        "df['Order_Date'] = pd.to_datetime(df['Order_Date'], format='%d/%m/%Y')\n",
        "\n",
        "# Calculate expiry range\n",
        "df['Expiry_Days_Left'] = (df['Expiry_Date'] - df['Order_Date']).dt.days\n",
        "\n",
        "# Display\n",
        "print(df[['OrderID', 'Order_Date', 'Expiry_Date', 'Expiry_Days_Left']].head(5))\n"
      ]
    },
    {
      "cell_type": "code",
      "execution_count": null,
      "id": "fc36e3bb",
      "metadata": {
        "id": "fc36e3bb"
      },
      "outputs": [
        {
          "name": "stdout",
          "output_type": "stream",
          "text": [
            "Shape after dropping invalid dates: (197184, 29)\n"
          ]
        }
      ],
      "source": [
        "# Reorder columns (make Expiry_Days_Left 2nd)\n",
        "cols = df.columns.tolist()\n",
        "cols.insert(1, cols.pop(cols.index('Expiry_Days_Left')))\n",
        "df = df[cols]\n",
        "\n",
        "# Save back to CSV\n",
        "df.to_csv(\"../DataSets/Transport_AssignmentsMOD.csv\", index=False)"
      ]
    },
    {
      "cell_type": "code",
      "execution_count": null,
      "id": "0ee3c38b",
      "metadata": {
        "id": "0ee3c38b"
      },
      "outputs": [
        {
          "name": "stdout",
          "output_type": "stream",
          "text": [
            "Final dataset shape: (0, 29)\n"
          ]
        }
      ],
      "source": [
        "df.describe()\n",
        "df.info()"
      ]
    },
    {
      "cell_type": "code",
      "execution_count": null,
      "id": "2736d96f",
      "metadata": {
        "id": "2736d96f"
      },
      "outputs": [
        {
          "name": "stdout",
          "output_type": "stream",
          "text": [
            "Label Mapping:\n"
          ]
        }
      ],
      "source": [
        "#Loading Required Liaberies ( WORKING WITH RANDOM FOREST KNN HANDELED BY SCIKIT LEARN )\n",
        "\n",
        "import pandas as pd\n",
        "from sklearn.model_selection import train_test_split\n",
        "from sklearn.ensemble import RandomForestClassifier\n",
        "from sklearn.preprocessing import LabelEncoder\n",
        "from sklearn.metrics import classification_report\n",
        "import joblib  # For saving model\n"
      ]
    },
    {
      "cell_type": "code",
      "execution_count": null,
      "id": "89d35da1",
      "metadata": {
        "id": "89d35da1"
      },
      "outputs": [
        {
          "data": {
            "text/html": [
              "<div>\n",
              "<style scoped>\n",
              "    .dataframe tbody tr th:only-of-type {\n",
              "        vertical-align: middle;\n",
              "    }\n",
              "\n",
              "    .dataframe tbody tr th {\n",
              "        vertical-align: top;\n",
              "    }\n",
              "\n",
              "    .dataframe thead th {\n",
              "        text-align: right;\n",
              "    }\n",
              "</style>\n",
              "<table border=\"1\" class=\"dataframe\">\n",
              "  <thead>\n",
              "    <tr style=\"text-align: right;\">\n",
              "      <th></th>\n",
              "      <th>OrderID</th>\n",
              "      <th>Expiry_Days_Left</th>\n",
              "      <th>Order_Date</th>\n",
              "      <th>Expiry_Date</th>\n",
              "      <th>Pallet_Size</th>\n",
              "      <th>Route_Type</th>\n",
              "      <th>Mode_of_Transport</th>\n",
              "      <th>Urgent_Order_Flag</th>\n",
              "      <th>Fragility</th>\n",
              "      <th>Dispatch_Window</th>\n",
              "      <th>Temp_Sensitive</th>\n",
              "    </tr>\n",
              "  </thead>\n",
              "  <tbody>\n",
              "    <tr>\n",
              "      <th>0</th>\n",
              "      <td>D0689266-88BE-4949-B7A4</td>\n",
              "      <td>238</td>\n",
              "      <td>2025-06-15</td>\n",
              "      <td>2026-02-08</td>\n",
              "      <td>80</td>\n",
              "      <td>Interstate</td>\n",
              "      <td>Big Truck</td>\n",
              "      <td>Yes</td>\n",
              "      <td>No</td>\n",
              "      <td>26/06/2025</td>\n",
              "      <td>Yes</td>\n",
              "    </tr>\n",
              "    <tr>\n",
              "      <th>1</th>\n",
              "      <td>85E9D4B1-BB58-4F2D-86BA</td>\n",
              "      <td>143</td>\n",
              "      <td>2025-06-18</td>\n",
              "      <td>2025-11-08</td>\n",
              "      <td>120</td>\n",
              "      <td>Interstate</td>\n",
              "      <td>Big Truck</td>\n",
              "      <td>Yes</td>\n",
              "      <td>Yes</td>\n",
              "      <td>23/06/2025</td>\n",
              "      <td>No</td>\n",
              "    </tr>\n",
              "    <tr>\n",
              "      <th>2</th>\n",
              "      <td>DA6CC913-1DC3-4E6A-B78E</td>\n",
              "      <td>127</td>\n",
              "      <td>2025-06-20</td>\n",
              "      <td>2025-10-25</td>\n",
              "      <td>150</td>\n",
              "      <td>Interstate</td>\n",
              "      <td>Big Truck</td>\n",
              "      <td>No</td>\n",
              "      <td>Yes</td>\n",
              "      <td>23/06/2025</td>\n",
              "      <td>Yes</td>\n",
              "    </tr>\n",
              "  </tbody>\n",
              "</table>\n",
              "</div>"
            ],
            "text/plain": [
              "                   OrderID  Expiry_Days_Left  Order_Date Expiry_Date  \\\n",
              "0  D0689266-88BE-4949-B7A4               238  2025-06-15  2026-02-08   \n",
              "1  85E9D4B1-BB58-4F2D-86BA               143  2025-06-18  2025-11-08   \n",
              "2  DA6CC913-1DC3-4E6A-B78E               127  2025-06-20  2025-10-25   \n",
              "\n",
              "   Pallet_Size  Route_Type Mode_of_Transport Urgent_Order_Flag Fragility  \\\n",
              "0           80  Interstate         Big Truck               Yes        No   \n",
              "1          120  Interstate         Big Truck               Yes       Yes   \n",
              "2          150  Interstate         Big Truck                No       Yes   \n",
              "\n",
              "  Dispatch_Window Temp_Sensitive  \n",
              "0      26/06/2025            Yes  \n",
              "1      23/06/2025             No  \n",
              "2      23/06/2025            Yes  "
            ]
          },
          "execution_count": 2,
          "metadata": {},
          "output_type": "execute_result"
        }
      ],
      "source": [
        "#Loading DataSheet\n",
        "df = pd.read_csv(\"../DataSets/Transport_AssignmentsMOD.csv\")\n",
        "df.head(3)"
      ]
    },
    {
      "cell_type": "code",
      "execution_count": null,
      "id": "33ee74e1",
      "metadata": {
        "id": "33ee74e1"
      },
      "outputs": [
        {
          "name": "stderr",
          "output_type": "stream",
          "text": [
            "C:\\Users\\Administrator\\AppData\\Local\\Temp\\ipykernel_21588\\771286952.py:6: UserWarning: Parsing dates in %d/%m/%Y format when dayfirst=False (the default) was specified. Pass `dayfirst=True` or specify a format to silence this warning.\n",
            "  df['Dispatch_Window'] = pd.to_datetime(df['Dispatch_Window'])\n"
          ]
        }
      ],
      "source": [
        "# df['Expiry_Date'] = pd.to_datetime(df['Expiry_Date'], format='%Y-%m-%d')\n",
        "# df['Dispatch_Window'] = pd.to_datetime(df['Dispatch_Window'], format='%Y-%m-%d')\n",
        "# df['Order_Date'] = pd.to_datetime(df['Order_Date'], format='%Y-%m-%d')\n",
        "\n",
        "# Convert Dispatch_Window and Order_Date to delivery_window_days\n",
        "df['Dispatch_Window'] = pd.to_datetime(df['Dispatch_Window'])\n",
        "df['Order_Date'] = pd.to_datetime(df['Order_Date'])\n",
        "df['Delivery_Window_Days'] = (df['Dispatch_Window'] - df['Order_Date']).dt.days\n"
      ]
    },
    {
      "cell_type": "code",
      "execution_count": null,
      "id": "a1f4bc51",
      "metadata": {
        "id": "a1f4bc51"
      },
      "outputs": [
        {
          "name": "stdout",
          "output_type": "stream",
          "text": [
            "High Priority Orders: 678\n",
            "Medium Priority Orders: 202\n",
            "Low Priority Orders: 1120\n"
          ]
        }
      ],
      "source": [
        "import numpy as np\n",
        "\n",
        "def assign_priority_fuzzy_sigmoid_robust(row,\n",
        "                                         expiry_threshold=120,          # 2 months\n",
        "                                         delivery_threshold=10,         # 10 days\n",
        "                                         high_cutoff=0.6,\n",
        "                                         medium_cutoff=0.4,\n",
        "                                         weights=None,\n",
        "                                         k=0.08):                       # Sharper sigmoid\n",
        "    \"\"\"\n",
        "    Robust industrial fuzzy logic for assigning priority labels to dispatch items.\n",
        "    Combines rule-based overrides and smooth sigmoid-based scoring.\n",
        "\n",
        "    Parameters:\n",
        "        expiry_threshold (int): Days threshold where expiry becomes critical\n",
        "        delivery_threshold (int): Days threshold for delivery urgency\n",
        "        high_cutoff (float): Score threshold for High priority\n",
        "        medium_cutoff (float): Score threshold for Medium priority\n",
        "        weights (dict): Weight mapping for all five parameters\n",
        "        k (float): Sigmoid steepness factor (higher = sharper cutoff)\n",
        "\n",
        "    Returns:\n",
        "        str: 'High', 'Medium', or 'Low'\n",
        "    \"\"\"\n",
        "    if weights is None:\n",
        "        weights = {\n",
        "            'expiry': 0.4,\n",
        "            'delivery': 0.3,\n",
        "            'urgent': 0.2,\n",
        "            'temp': 0.05,\n",
        "            'fragile': 0.05\n",
        "        }\n",
        "\n",
        "    expiry_days = row['Expiry_Days_Left']\n",
        "    delivery_days = row['Delivery_Window_Days']\n",
        "\n",
        "    # 🧠 Sigmoid fuzzy scores (scaled to smooth transitions)\n",
        "    expiry_score = 1 / (1 + np.exp(k * (expiry_days - expiry_threshold)))\n",
        "    delivery_score = 1 / (1 + np.exp(k * (delivery_days - delivery_threshold)))\n",
        "\n",
        "    urgent_score = 1 if row['Urgent_Order_Flag'] == 'Yes' else 0\n",
        "    temp_score = 1 if row['Temp_Sensitive'] == 'Yes' else 0\n",
        "    fragile_score = 1 if row['Fragility'] == 'Yes' else 0\n",
        "\n",
        "    # 🔒 Hard Rule Overrides (Business-critical triggers)\n",
        "    # Rule 1: Expiry very soon AND urgent\n",
        "    if expiry_days <= 30 and row['Urgent_Order_Flag'] == 'Yes':\n",
        "        return 'High'\n",
        "\n",
        "    # Rule 2: Temp-sensitive AND near expiry\n",
        "    if expiry_days <= 30 and row['Temp_Sensitive'] == 'Yes':\n",
        "        return 'High'\n",
        "\n",
        "    # Rule 3: Tight delivery window AND urgent\n",
        "    if delivery_days <= 5 and row['Urgent_Order_Flag'] == 'Yes':\n",
        "        return 'High'\n",
        "\n",
        "    # Rule 4: Expiry + Delivery both extremely tight\n",
        "    if expiry_days <= 10 and delivery_days <= 5:\n",
        "        return 'High'\n",
        "\n",
        "    # Rule 5: Fragile and urgent (special handling needed)\n",
        "    if row['Urgent_Order_Flag'] == 'Yes' and row['Fragility'] == 'Yes':\n",
        "        return 'High'\n",
        "\n",
        "    # Rule 6: Very relaxed, non-urgent case\n",
        "    if expiry_days > 600 and delivery_days > 45 and row['Urgent_Order_Flag'] == 'No':\n",
        "        return 'Low'\n",
        "\n",
        "    # 🎯 Weighted fuzzy scoring\n",
        "    total_score = (\n",
        "        expiry_score * weights['expiry'] +\n",
        "        delivery_score * weights['delivery'] +\n",
        "        urgent_score * weights['urgent'] +\n",
        "        temp_score * weights['temp'] +\n",
        "        fragile_score * weights['fragile']\n",
        "    )\n",
        "\n",
        "    # 🔽 Priority Classification\n",
        "    if total_score >= high_cutoff:\n",
        "        return 'High'\n",
        "    elif total_score >= medium_cutoff:\n",
        "        return 'Medium'\n",
        "    else:\n",
        "        return 'Low'\n",
        "\n",
        "\n",
        "\n",
        "df['Priority_Label'] = df.apply(assign_priority_fuzzy_sigmoid_robust, axis=1)\n",
        "\n",
        "# Split data\n",
        "high_df = df[df['Priority_Label'] == 'High']\n",
        "medium_df = df[df['Priority_Label'] == 'Medium']\n",
        "low_df = df[df['Priority_Label'] == 'Low']\n",
        "\n",
        "print(f\"High Priority Orders: {len(high_df)}\")\n",
        "print(f\"Medium Priority Orders: {len(medium_df)}\")\n",
        "print(f\"Low Priority Orders: {len(low_df)}\")\n"
      ]
    },
    {
      "cell_type": "code",
      "execution_count": null,
      "id": "84c1a211",
      "metadata": {
        "id": "84c1a211"
      },
      "outputs": [],
      "source": [
        "#dataset for ml\n",
        "\n",
        "from sklearn.model_selection import train_test_split\n",
        "from sklearn.preprocessing import LabelEncoder\n",
        "\n",
        "# Step 1: Feature Selection\n",
        "features = [\n",
        "    'Pallet_Size',\n",
        "    'Route_Type',\n",
        "    'Mode_of_Transport',\n",
        "    'Urgent_Order_Flag',\n",
        "    'Fragility',\n",
        "    'Temp_Sensitive',\n",
        "    'Expiry_Days_Left',\n",
        "    'Dispatch_Window',  # will convert this to days\n",
        "    'Order_Date'\n",
        "]\n",
        "\n",
        "# Convert Dispatch_Window and Order_Date to delivery_window_days\n",
        "df['Dispatch_Window'] = pd.to_datetime(df['Dispatch_Window'])\n",
        "df['Order_Date'] = pd.to_datetime(df['Order_Date'])\n",
        "df['Delivery_Window_Days'] = (df['Dispatch_Window'] - df['Order_Date']).dt.days\n",
        "\n",
        "# Keep only required features + label\n",
        "ml_df = df[[\n",
        "    'Pallet_Size', 'Route_Type', 'Mode_of_Transport', 'Urgent_Order_Flag',\n",
        "    'Fragility', 'Temp_Sensitive', 'Expiry_Days_Left', 'Delivery_Window_Days', \n",
        "    'Priority_Label'\n",
        "]]\n",
        "\n",
        "# Encode categorical columns\n",
        "label_encoders = {}\n",
        "for col in ['Route_Type', 'Mode_of_Transport', 'Urgent_Order_Flag', 'Fragility', 'Temp_Sensitive']:\n",
        "    le = LabelEncoder()\n",
        "    ml_df.loc[:, col] = le.fit_transform(ml_df[col])\n",
        "    label_encoders[col] = le\n",
        "\n",
        "# Encode output label\n",
        "le_priority = LabelEncoder()\n",
        "# ml_df.loc[:, 'Priority_Label'] = le_priority.fit_transform(ml_df['Priority_Label'])\n",
        "ml_df.loc[:, 'Priority_Label'] = le_priority.fit_transform(ml_df['Priority_Label'])\n",
        "# ml_df['Priority_Label'] = le_priority.fit_transform(ml_df['Priority_Label'].astype(str))\n",
        "\n"
      ]
    },
    {
      "cell_type": "code",
      "execution_count": 37,
      "id": "1a308fe7",
      "metadata": {
        "id": "1a308fe7"
      },
      "outputs": [
        {
          "name": "stdout",
          "output_type": "stream",
          "text": [
            "[0 2 1]\n",
            "int64\n"
          ]
        }
      ],
      "source": [
        "#BRUT FORCE\n",
        "\n",
        "# Manually map string labels to integers\n",
        "priority_mapping = {\n",
        "    'Low': 0,\n",
        "    'Medium': 1,\n",
        "    'High': 2\n",
        "}\n",
        "\n",
        "# Apply the mapping manually\n",
        "df['Encoded_Priority_Label'] = df['Priority_Label'].map(priority_mapping)\n",
        "\n",
        "# Check results\n",
        "print(df['Encoded_Priority_Label'].unique())\n",
        "print(df['Encoded_Priority_Label'].dtype)\n"
      ]
    },
    {
      "cell_type": "code",
      "execution_count": 38,
      "id": "51417111",
      "metadata": {},
      "outputs": [
        {
          "name": "stderr",
          "output_type": "stream",
          "text": [
            "C:\\Users\\Administrator\\AppData\\Local\\Temp\\ipykernel_5292\\2616058964.py:2: SettingWithCopyWarning: \n",
            "A value is trying to be set on a copy of a slice from a DataFrame.\n",
            "Try using .loc[row_indexer,col_indexer] = value instead\n",
            "\n",
            "See the caveats in the documentation: https://pandas.pydata.org/pandas-docs/stable/user_guide/indexing.html#returning-a-view-versus-a-copy\n",
            "  ml_df['Encoded_Priority_Label'] = df['Encoded_Priority_Label']\n"
          ]
        }
      ],
      "source": [
        "# Ensure encoded label is added to ml_df from df\n",
        "ml_df['Encoded_Priority_Label'] = df['Encoded_Priority_Label']\n",
        "\n",
        "# Define features (X) and label (y)\n",
        "X = ml_df.drop(['Priority_Label', 'Encoded_Priority_Label'], axis=1)\n",
        "y = ml_df['Encoded_Priority_Label']\n",
        "\n",
        "# Split into train/test\n",
        "from sklearn.model_selection import train_test_split\n",
        "X_train, X_test, y_train, y_test = train_test_split(\n",
        "    X, y, test_size=0.2, random_state=42, stratify=y\n",
        ")\n"
      ]
    },
    {
      "cell_type": "code",
      "execution_count": 39,
      "id": "fb14b3b7",
      "metadata": {
        "id": "fb14b3b7"
      },
      "outputs": [
        {
          "name": "stdout",
          "output_type": "stream",
          "text": [
            "Confusion Matrix:\n",
            " [[223   1   0]\n",
            " [  3  37   0]\n",
            " [  0   0 136]]\n",
            "\n",
            "Classification Report:\n",
            "               precision    recall  f1-score   support\n",
            "\n",
            "        High       0.99      1.00      0.99       224\n",
            "         Low       0.97      0.93      0.95        40\n",
            "      Medium       1.00      1.00      1.00       136\n",
            "\n",
            "    accuracy                           0.99       400\n",
            "   macro avg       0.99      0.97      0.98       400\n",
            "weighted avg       0.99      0.99      0.99       400\n",
            "\n"
          ]
        }
      ],
      "source": [
        "from sklearn.ensemble import RandomForestClassifier\n",
        "from sklearn.metrics import classification_report, confusion_matrix\n",
        "\n",
        "model = RandomForestClassifier(n_estimators=100, random_state=42)\n",
        "model.fit(X_train, y_train)\n",
        "\n",
        "# Predict\n",
        "y_pred = model.predict(X_test)\n",
        "\n",
        "# Evaluate\n",
        "print(\"Confusion Matrix:\\n\", confusion_matrix(y_test, y_pred))\n",
        "print(\"\\nClassification Report:\\n\", classification_report(y_test, y_pred, target_names=le_priority.classes_))\n",
        "\n",
        "\n"
      ]
    },
    {
      "cell_type": "code",
      "execution_count": null,
      "id": "77fb3dd2",
      "metadata": {
        "id": "77fb3dd2"
      },
      "outputs": [
        {
          "name": "stdout",
          "output_type": "stream",
          "text": [
            "Priority_Label\n",
            "Low       1120\n",
            "High       678\n",
            "Medium     202\n",
            "Name: count, dtype: int64\n",
            "0\n"
          ]
        }
      ],
      "source": [
        "print(df['Priority_Label'].value_counts())\n",
        "print(df['Priority_Label'].isnull().sum())\n"
      ]
    },
    {
      "cell_type": "code",
      "execution_count": 41,
      "id": "3a83e746",
      "metadata": {},
      "outputs": [
        {
          "name": "stdout",
          "output_type": "stream",
          "text": [
            "High Priority Orders: 678\n",
            "Medium Priority Orders: 202\n",
            "Low Priority Orders: 1120\n"
          ]
        }
      ],
      "source": [
        "#SEPERATE DATAFRAMES FOR PRIORITY\n",
        "\n",
        "high_df = df[df['Priority_Label'] == 'High']\n",
        "medium_df = df[df['Priority_Label'] == 'Medium']\n",
        "low_df = df[df['Priority_Label'] == 'Low']\n",
        "\n",
        " \n",
        "print(f\"High Priority Orders: {len(high_df)}\")\n",
        "print(f\"Medium Priority Orders: {len(medium_df)}\")\n",
        "print(f\"Low Priority Orders: {len(low_df)}\")"
      ]
    },
    {
      "cell_type": "code",
      "execution_count": 42,
      "id": "a3816788",
      "metadata": {},
      "outputs": [
        {
          "data": {
            "text/plain": [
              "['..\\\\TrainedModel\\\\priority_label_encoder.pkl']"
            ]
          },
          "execution_count": 42,
          "metadata": {},
          "output_type": "execute_result"
        }
      ],
      "source": [
        "# Save model\n",
        "joblib.dump(model, '..\\\\TrainedModel\\\\dispatch_priority_model.pkl')\n",
        "\n",
        "# # Also save encoders if needed later\n",
        "joblib.dump(label_encoders, '..\\\\TrainedModel\\\\label_encoders.pkl')\n",
        "joblib.dump(le_priority, '..\\\\TrainedModel\\\\priority_label_encoder.pkl')"
      ]
    },
    {
      "cell_type": "code",
      "execution_count": 43,
      "id": "aa7dd6bf",
      "metadata": {},
      "outputs": [
        {
          "name": "stdout",
          "output_type": "stream",
          "text": [
            " Test Data Format ::: Route_Type classes: ['Intercity' 'Interstate' 'Local']\n",
            " Test Data Format ::: Mode_of_Transport classes: ['Big Truck' 'Medium Truck' 'Small Truck']\n",
            " Test Data Format ::: Urgent_Order_Flag classes: ['No' 'Yes']\n",
            " Test Data Format ::: Fragility classes: ['No' 'Yes']\n",
            " Test Data Format ::: Temp_Sensitive classes: ['No' 'Yes']\n"
          ]
        }
      ],
      "source": [
        "# 3 MODEL USING AND HYPER PARAMETERS \n",
        "\n",
        "for col, le in label_encoders.items():\n",
        "    print(f\" Test Data Format ::: {col} classes: {le.classes_}\")"
      ]
    },
    {
      "cell_type": "code",
      "execution_count": null,
      "id": "9acc0466",
      "metadata": {},
      "outputs": [
        {
          "name": "stdout",
          "output_type": "stream",
          "text": [
            "   Pallet_Size  Expiry_Days_Left  Delivery_Window_Days Predicted_Priority\n",
            "0          100                 5                    10             Medium\n",
            "1           80                90                    25                Low\n",
            "2          120               360                    60               High\n"
          ]
        }
      ],
      "source": [
        "import joblib\n",
        "import pandas as pd\n",
        "\n",
        "# Load model and encoders\n",
        "model = joblib.load('..\\\\TrainedModel\\\\dispatch_priority_model.pkl')\n",
        "label_encoders = joblib.load('..\\\\TrainedModel\\\\label_encoders.pkl')\n",
        "le_priority = joblib.load('..\\\\TrainedModel\\\\priority_label_encoder.pkl')\n",
        "\n",
        "# Test data with possible new/unseen values\n",
        "new_data = pd.DataFrame([\n",
        "    {\n",
        "        'Pallet_Size': 100,\n",
        "        'Route_Type': 'Intercity',        # OK\n",
        "        'Mode_of_Transport': 'Medium Truck',  # OK\n",
        "        'Urgent_Order_Flag': 'Yes',\n",
        "        'Fragility': 'Yes',\n",
        "        'Temp_Sensitive': 'Yes',\n",
        "        'Expiry_Days_Left': 5,\n",
        "        'Delivery_Window_Days': 10\n",
        "    },\n",
        "    {\n",
        "        'Pallet_Size': 80,\n",
        "        'Route_Type': 'Intracity',\n",
        "        'Mode_of_Transport': 'Mini Truck',\n",
        "        'Urgent_Order_Flag': 'No',\n",
        "        'Fragility': 'Yes',\n",
        "        'Temp_Sensitive': 'No',\n",
        "        'Expiry_Days_Left': 90,\n",
        "        'Delivery_Window_Days': 25\n",
        "    },\n",
        "    {\n",
        "        'Pallet_Size': 120,\n",
        "        'Route_Type': 'Interstate',\n",
        "        'Mode_of_Transport': 'Big Truck',\n",
        "        'Urgent_Order_Flag': 'No',\n",
        "        'Fragility': 'No',\n",
        "        'Temp_Sensitive': 'No',\n",
        "        'Expiry_Days_Left': 360,\n",
        "        'Delivery_Window_Days': 60\n",
        "    }\n",
        "])\n",
        "\n",
        "# Encode new data safely by replacing unseen labels\n",
        "for col in ['Route_Type', 'Mode_of_Transport', 'Urgent_Order_Flag', 'Fragility', 'Temp_Sensitive']:\n",
        "    le = label_encoders[col]\n",
        "    \n",
        "    # Ensure all values are known to encoder\n",
        "    new_data[col] = new_data[col].apply(lambda x: x if x in le.classes_ else le.classes_[0])\n",
        "    \n",
        "    # Re-transform with safe values\n",
        "    new_data[col] = le.transform(new_data[col])\n",
        "\n",
        "# Predict\n",
        "prediction_encoded = model.predict(new_data)\n",
        "prediction_label = le_priority.inverse_transform(prediction_encoded)\n",
        "\n",
        "# Results\n",
        "new_data['Predicted_Priority'] = prediction_label\n",
        "print(new_data[['Pallet_Size', 'Expiry_Days_Left', 'Delivery_Window_Days', 'Predicted_Priority']])\n"
      ]
    },
    {
      "cell_type": "code",
      "execution_count": 45,
      "id": "c7e132a3",
      "metadata": {},
      "outputs": [],
      "source": [
        "# Assuming 'df' contains the final dataframe after priority assignment\n",
        "csv_path = \"../DataSets/Transport_AssignmentsMLGEN.csv\"\n",
        "df.to_csv(csv_path, index=False)"
      ]
    }
  ],
  "metadata": {
    "colab": {
      "provenance": []
    },
    "kernelspec": {
      "display_name": "Python 3",
      "language": "python",
      "name": "python3"
    },
    "language_info": {
      "codemirror_mode": {
        "name": "ipython",
        "version": 3
      },
      "file_extension": ".py",
      "mimetype": "text/x-python",
      "name": "python",
      "nbconvert_exporter": "python",
      "pygments_lexer": "ipython3",
      "version": "3.11.8"
    }
  },
  "nbformat": 4,
  "nbformat_minor": 5
}
